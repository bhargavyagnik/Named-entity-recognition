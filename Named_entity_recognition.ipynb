{
  "nbformat": 4,
  "nbformat_minor": 0,
  "metadata": {
    "colab": {
      "name": "Named_entity_recognition.ipynb",
      "provenance": [],
      "collapsed_sections": [],
      "toc_visible": true
    },
    "kernelspec": {
      "name": "python3",
      "display_name": "Python 3"
    }
  },
  "cells": [
    {
      "cell_type": "markdown",
      "metadata": {
        "id": "OCy2KoVtJik1"
      },
      "source": [
        "# Named Entity Recognition (NER)"
      ]
    },
    {
      "cell_type": "markdown",
      "metadata": {
        "id": "tIwMDf-TJbwi"
      },
      "source": [
        "This is a Deep learning based approach to try NER\r\n",
        "It is basically finding nouns in the sentences. So suppose the sentence is \"India is an amazing country\". (So here India is a entity)"
      ]
    },
    {
      "cell_type": "code",
      "metadata": {
        "colab": {
          "base_uri": "https://localhost:8080/",
          "height": 119
        },
        "id": "UHDo1ZobLc_n",
        "outputId": "b3e2ca8d-327c-46c4-c7ef-ea955ee0c762"
      },
      "source": [
        "import spacy\r\n",
        "from spacy import displacy\r\n",
        "nlp = spacy.load('en_core_web_sm')\r\n",
        "text = nlp('India is my country It is my motherland It lies in South Asia.\\n It is a very vast country It is the land of a hundred crore people.\\n It is the land of Shiva and Krishna, Buddha and Mahatma Gandhi.')\r\n",
        "displacy.render(text, style = 'ent', jupyter=True)"
      ],
      "execution_count": 16,
      "outputs": [
        {
          "output_type": "display_data",
          "data": {
            "text/html": [
              "<span class=\"tex2jax_ignore\"><div class=\"entities\" style=\"line-height: 2.5; direction: ltr\">\n",
              "<mark class=\"entity\" style=\"background: #feca74; padding: 0.45em 0.6em; margin: 0 0.25em; line-height: 1; border-radius: 0.35em;\">\n",
              "    India\n",
              "    <span style=\"font-size: 0.8em; font-weight: bold; line-height: 1; border-radius: 0.35em; text-transform: uppercase; vertical-align: middle; margin-left: 0.5rem\">GPE</span>\n",
              "</mark>\n",
              " is my country It is my motherland It lies in \n",
              "<mark class=\"entity\" style=\"background: #ff9561; padding: 0.45em 0.6em; margin: 0 0.25em; line-height: 1; border-radius: 0.35em;\">\n",
              "    South Asia\n",
              "    <span style=\"font-size: 0.8em; font-weight: bold; line-height: 1; border-radius: 0.35em; text-transform: uppercase; vertical-align: middle; margin-left: 0.5rem\">LOC</span>\n",
              "</mark>\n",
              ".</br> It is a very vast country It is the land of a \n",
              "<mark class=\"entity\" style=\"background: #e4e7d2; padding: 0.45em 0.6em; margin: 0 0.25em; line-height: 1; border-radius: 0.35em;\">\n",
              "    hundred\n",
              "    <span style=\"font-size: 0.8em; font-weight: bold; line-height: 1; border-radius: 0.35em; text-transform: uppercase; vertical-align: middle; margin-left: 0.5rem\">CARDINAL</span>\n",
              "</mark>\n",
              " crore people.</br> It is the land of \n",
              "<mark class=\"entity\" style=\"background: #feca74; padding: 0.45em 0.6em; margin: 0 0.25em; line-height: 1; border-radius: 0.35em;\">\n",
              "    Shiva\n",
              "    <span style=\"font-size: 0.8em; font-weight: bold; line-height: 1; border-radius: 0.35em; text-transform: uppercase; vertical-align: middle; margin-left: 0.5rem\">GPE</span>\n",
              "</mark>\n",
              " and \n",
              "<mark class=\"entity\" style=\"background: #aa9cfc; padding: 0.45em 0.6em; margin: 0 0.25em; line-height: 1; border-radius: 0.35em;\">\n",
              "    Krishna\n",
              "    <span style=\"font-size: 0.8em; font-weight: bold; line-height: 1; border-radius: 0.35em; text-transform: uppercase; vertical-align: middle; margin-left: 0.5rem\">PERSON</span>\n",
              "</mark>\n",
              ", \n",
              "<mark class=\"entity\" style=\"background: #aa9cfc; padding: 0.45em 0.6em; margin: 0 0.25em; line-height: 1; border-radius: 0.35em;\">\n",
              "    Buddha\n",
              "    <span style=\"font-size: 0.8em; font-weight: bold; line-height: 1; border-radius: 0.35em; text-transform: uppercase; vertical-align: middle; margin-left: 0.5rem\">PERSON</span>\n",
              "</mark>\n",
              " and \n",
              "<mark class=\"entity\" style=\"background: #aa9cfc; padding: 0.45em 0.6em; margin: 0 0.25em; line-height: 1; border-radius: 0.35em;\">\n",
              "    Mahatma Gandhi\n",
              "    <span style=\"font-size: 0.8em; font-weight: bold; line-height: 1; border-radius: 0.35em; text-transform: uppercase; vertical-align: middle; margin-left: 0.5rem\">PERSON</span>\n",
              "</mark>\n",
              ".</div></span>"
            ],
            "text/plain": [
              "<IPython.core.display.HTML object>"
            ]
          },
          "metadata": {
            "tags": []
          }
        }
      ]
    },
    {
      "cell_type": "markdown",
      "metadata": {
        "id": "GkIKj1FUPbSr"
      },
      "source": [
        "So we'll try to get something like the above sentence shows, but this is a direct approach using a predefined spacy library that uses are  pretrained model to get the  work done"
      ]
    },
    {
      "cell_type": "code",
      "metadata": {
        "id": "tIIGRuezJXDb"
      },
      "source": [
        "import pandas as pd\r\n",
        "import numpy as np"
      ],
      "execution_count": 1,
      "outputs": []
    },
    {
      "cell_type": "code",
      "metadata": {
        "colab": {
          "base_uri": "https://localhost:8080/",
          "height": 193
        },
        "id": "t3XB0Kt-KFpH",
        "outputId": "d6ab4599-8a52-4176-a696-4fec2be956de"
      },
      "source": [
        "data = pd.read_csv('https://raw.githubusercontent.com/amankharwal/Website-data/master/ner_dataset.csv',encoding= 'unicode_escape')\r\n",
        "data.head()"
      ],
      "execution_count": 4,
      "outputs": [
        {
          "output_type": "execute_result",
          "data": {
            "text/html": [
              "<div>\n",
              "<style scoped>\n",
              "    .dataframe tbody tr th:only-of-type {\n",
              "        vertical-align: middle;\n",
              "    }\n",
              "\n",
              "    .dataframe tbody tr th {\n",
              "        vertical-align: top;\n",
              "    }\n",
              "\n",
              "    .dataframe thead th {\n",
              "        text-align: right;\n",
              "    }\n",
              "</style>\n",
              "<table border=\"1\" class=\"dataframe\">\n",
              "  <thead>\n",
              "    <tr style=\"text-align: right;\">\n",
              "      <th></th>\n",
              "      <th>Sentence #</th>\n",
              "      <th>Word</th>\n",
              "      <th>POS</th>\n",
              "      <th>Tag</th>\n",
              "    </tr>\n",
              "  </thead>\n",
              "  <tbody>\n",
              "    <tr>\n",
              "      <th>0</th>\n",
              "      <td>Sentence: 1</td>\n",
              "      <td>Thousands</td>\n",
              "      <td>NNS</td>\n",
              "      <td>O</td>\n",
              "    </tr>\n",
              "    <tr>\n",
              "      <th>1</th>\n",
              "      <td>NaN</td>\n",
              "      <td>of</td>\n",
              "      <td>IN</td>\n",
              "      <td>O</td>\n",
              "    </tr>\n",
              "    <tr>\n",
              "      <th>2</th>\n",
              "      <td>NaN</td>\n",
              "      <td>demonstrators</td>\n",
              "      <td>NNS</td>\n",
              "      <td>O</td>\n",
              "    </tr>\n",
              "    <tr>\n",
              "      <th>3</th>\n",
              "      <td>NaN</td>\n",
              "      <td>have</td>\n",
              "      <td>VBP</td>\n",
              "      <td>O</td>\n",
              "    </tr>\n",
              "    <tr>\n",
              "      <th>4</th>\n",
              "      <td>NaN</td>\n",
              "      <td>marched</td>\n",
              "      <td>VBN</td>\n",
              "      <td>O</td>\n",
              "    </tr>\n",
              "  </tbody>\n",
              "</table>\n",
              "</div>"
            ],
            "text/plain": [
              "    Sentence #           Word  POS Tag\n",
              "0  Sentence: 1      Thousands  NNS   O\n",
              "1          NaN             of   IN   O\n",
              "2          NaN  demonstrators  NNS   O\n",
              "3          NaN           have  VBP   O\n",
              "4          NaN        marched  VBN   O"
            ]
          },
          "metadata": {
            "tags": []
          },
          "execution_count": 4
        }
      ]
    },
    {
      "cell_type": "markdown",
      "metadata": {
        "id": "JiaMGoxNKiTS"
      },
      "source": [
        "## Data Preparation"
      ]
    },
    {
      "cell_type": "code",
      "metadata": {
        "id": "Xwi4JX2eKgzn"
      },
      "source": [
        "from itertools import chain\r\n",
        "def get_dict_map(data, token_or_tag):\r\n",
        "    tok2idx = {}\r\n",
        "    idx2tok = {}\r\n",
        "    \r\n",
        "    if token_or_tag == 'token':\r\n",
        "        vocab = list(set(data['Word'].to_list()))\r\n",
        "    else:\r\n",
        "        vocab = list(set(data['Tag'].to_list()))\r\n",
        "    \r\n",
        "    idx2tok = {idx:tok for  idx, tok in enumerate(vocab)}\r\n",
        "    tok2idx = {tok:idx for  idx, tok in enumerate(vocab)}\r\n",
        "    return tok2idx, idx2tok\r\n",
        "token2idx, idx2token = get_dict_map(data, 'token')\r\n",
        "tag2idx, idx2tag = get_dict_map(data, 'tag')"
      ],
      "execution_count": 5,
      "outputs": []
    },
    {
      "cell_type": "code",
      "metadata": {
        "colab": {
          "base_uri": "https://localhost:8080/"
        },
        "id": "D6TYjcrSKuZS",
        "outputId": "3bdaf6b2-7dd5-4619-f3a9-1a346d2ea1ce"
      },
      "source": [
        "data['Word_idx'] = data['Word'].map(token2idx)\r\n",
        "data['Tag_idx'] = data['Tag'].map(tag2idx)\r\n",
        "data_fillna = data.fillna(method='ffill', axis=0)\r\n",
        "# Groupby and collect columns\r\n",
        "data_group = data_fillna.groupby(\r\n",
        "['Sentence #'],as_index=False\r\n",
        ")['Word', 'POS', 'Tag', 'Word_idx', 'Tag_idx'].agg(lambda x: list(x))"
      ],
      "execution_count": 6,
      "outputs": [
        {
          "output_type": "stream",
          "text": [
            "/usr/local/lib/python3.6/dist-packages/ipykernel_launcher.py:7: FutureWarning: Indexing with multiple keys (implicitly converted to a tuple of keys) will be deprecated, use a list instead.\n",
            "  import sys\n"
          ],
          "name": "stderr"
        }
      ]
    },
    {
      "cell_type": "markdown",
      "metadata": {
        "id": "5R68CXi7LKxL"
      },
      "source": [
        "Dividing the data to various sets"
      ]
    },
    {
      "cell_type": "code",
      "metadata": {
        "id": "-qOadcDbLCCo"
      },
      "source": [
        "from sklearn.model_selection import train_test_split\r\n",
        "from keras.preprocessing.sequence import pad_sequences\r\n",
        "from keras.utils import to_categorical"
      ],
      "execution_count": 7,
      "outputs": []
    },
    {
      "cell_type": "code",
      "metadata": {
        "colab": {
          "base_uri": "https://localhost:8080/"
        },
        "id": "fGpi125wLI7l",
        "outputId": "88f71ddf-edb3-4467-cda9-b69fcbecf614"
      },
      "source": [
        "\r\n",
        "def get_pad_train_test_val(data_group, data):\r\n",
        "\r\n",
        "    #get max token and tag length\r\n",
        "    n_token = len(list(set(data['Word'].to_list())))\r\n",
        "    n_tag = len(list(set(data['Tag'].to_list())))\r\n",
        "\r\n",
        "    #Pad tokens (X var)    \r\n",
        "    tokens = data_group['Word_idx'].tolist()\r\n",
        "    maxlen = max([len(s) for s in tokens])\r\n",
        "    pad_tokens = pad_sequences(tokens, maxlen=maxlen, dtype='int32', padding='post', value= n_token - 1)\r\n",
        "\r\n",
        "    #Pad Tags (y var) and convert it into one hot encoding\r\n",
        "    tags = data_group['Tag_idx'].tolist()\r\n",
        "    pad_tags = pad_sequences(tags, maxlen=maxlen, dtype='int32', padding='post', value= tag2idx[\"O\"])\r\n",
        "    n_tags = len(tag2idx)\r\n",
        "    pad_tags = [to_categorical(i, num_classes=n_tags) for i in pad_tags]\r\n",
        "    \r\n",
        "    #Split train, test and validation set\r\n",
        "    tokens_, test_tokens, tags_, test_tags = train_test_split(pad_tokens, pad_tags, test_size=0.1, train_size=0.9, random_state=2020)\r\n",
        "    train_tokens, val_tokens, train_tags, val_tags = train_test_split(tokens_,tags_,test_size = 0.25,train_size =0.75, random_state=2020)\r\n",
        "\r\n",
        "    print(\r\n",
        "        'train_tokens length:', len(train_tokens),\r\n",
        "        '\\ntrain_tokens length:', len(train_tokens),\r\n",
        "        '\\ntest_tokens length:', len(test_tokens),\r\n",
        "        '\\ntest_tags:', len(test_tags),\r\n",
        "        '\\nval_tokens:', len(val_tokens),\r\n",
        "        '\\nval_tags:', len(val_tags),\r\n",
        "    )\r\n",
        "    \r\n",
        "    return train_tokens, val_tokens, test_tokens, train_tags, val_tags, test_tags\r\n",
        "\r\n",
        "train_tokens, val_tokens, test_tokens, train_tags, val_tags, test_tags = get_pad_train_test_val(data_group, data)"
      ],
      "execution_count": 8,
      "outputs": [
        {
          "output_type": "stream",
          "text": [
            "train_tokens length: 32372 \n",
            "train_tokens length: 32372 \n",
            "test_tokens length: 4796 \n",
            "test_tags: 4796 \n",
            "val_tokens: 10791 \n",
            "val_tags: 10791\n"
          ],
          "name": "stdout"
        }
      ]
    },
    {
      "cell_type": "code",
      "metadata": {
        "id": "Tkz3OJHOLJwf"
      },
      "source": [
        "import numpy as np\r\n",
        "import tensorflow\r\n",
        "from tensorflow.keras import Sequential, Model, Input\r\n",
        "from tensorflow.keras.layers import LSTM, Embedding, Dense, TimeDistributed, Dropout, Bidirectional\r\n",
        "from tensorflow.keras.utils import plot_model\r\n",
        "from numpy.random import seed\r\n",
        "seed(1)\r\n",
        "tensorflow.random.set_seed(2)"
      ],
      "execution_count": 9,
      "outputs": []
    },
    {
      "cell_type": "code",
      "metadata": {
        "id": "Gc-opBv6LSo8"
      },
      "source": [
        "input_dim = len(list(set(data['Word'].to_list())))+1\r\n",
        "output_dim = 64\r\n",
        "input_length = max([len(s) for s in data_group['Word_idx'].tolist()])\r\n",
        "n_tags = len(tag2idx)"
      ],
      "execution_count": 10,
      "outputs": []
    },
    {
      "cell_type": "code",
      "metadata": {
        "id": "NzBc3kRyLVFQ"
      },
      "source": [
        "def get_bilstm_lstm_model():\r\n",
        "    model = Sequential()\r\n",
        "\r\n",
        "    # Add Embedding layer\r\n",
        "    model.add(Embedding(input_dim=input_dim, output_dim=output_dim, input_length=input_length))\r\n",
        "\r\n",
        "    # Add bidirectional LSTM\r\n",
        "    model.add(Bidirectional(LSTM(units=output_dim, return_sequences=True, dropout=0.2, recurrent_dropout=0.2), merge_mode = 'concat'))\r\n",
        "\r\n",
        "    # Add LSTM\r\n",
        "    model.add(LSTM(units=output_dim, return_sequences=True, dropout=0.5, recurrent_dropout=0.5))\r\n",
        "\r\n",
        "    # Add timeDistributed Layer\r\n",
        "    model.add(TimeDistributed(Dense(n_tags, activation=\"relu\")))\r\n",
        "\r\n",
        "    #Optimiser \r\n",
        "    # adam = k.optimizers.Adam(lr=0.0005, beta_1=0.9, beta_2=0.999)\r\n",
        "\r\n",
        "    # Compile model\r\n",
        "    model.compile(loss='categorical_crossentropy', optimizer='adam', metrics=['accuracy'])\r\n",
        "    model.summary()\r\n",
        "    \r\n",
        "    return model"
      ],
      "execution_count": 11,
      "outputs": []
    },
    {
      "cell_type": "code",
      "metadata": {
        "id": "rQlhkFQXLYD5"
      },
      "source": [
        "def train_model(X, y, model):\r\n",
        "    loss = list()\r\n",
        "    for i in range(5):\r\n",
        "        # fit model for one epoch on this sequence\r\n",
        "        hist = model.fit(X, y, batch_size=1000, verbose=1, epochs=1, validation_split=0.2)\r\n",
        "        loss.append(hist.history['loss'][0])\r\n",
        "    return loss"
      ],
      "execution_count": 14,
      "outputs": []
    },
    {
      "cell_type": "code",
      "metadata": {
        "colab": {
          "base_uri": "https://localhost:8080/"
        },
        "id": "HaK4dh_tLa49",
        "outputId": "d1326a7c-3a52-4f28-ce5a-d2bef6756784"
      },
      "source": [
        "results = pd.DataFrame()\r\n",
        "model_bilstm_lstm = get_bilstm_lstm_model()\r\n",
        "plot_model(model_bilstm_lstm)\r\n",
        "results['with_add_lstm'] = train_model(train_tokens, np.array(train_tags), model_bilstm_lstm)"
      ],
      "execution_count": 15,
      "outputs": [
        {
          "output_type": "stream",
          "text": [
            "Model: \"sequential_1\"\n",
            "_________________________________________________________________\n",
            "Layer (type)                 Output Shape              Param #   \n",
            "=================================================================\n",
            "embedding_1 (Embedding)      (None, 104, 64)           2251456   \n",
            "_________________________________________________________________\n",
            "bidirectional_1 (Bidirection (None, 104, 128)          66048     \n",
            "_________________________________________________________________\n",
            "lstm_3 (LSTM)                (None, 104, 64)           49408     \n",
            "_________________________________________________________________\n",
            "time_distributed_1 (TimeDist (None, 104, 17)           1105      \n",
            "=================================================================\n",
            "Total params: 2,368,017\n",
            "Trainable params: 2,368,017\n",
            "Non-trainable params: 0\n",
            "_________________________________________________________________\n",
            "26/26 [==============================] - 134s 5s/step - loss: 1.4706 - accuracy: 0.8259 - val_loss: 0.3284 - val_accuracy: 0.9681\n",
            "26/26 [==============================] - 125s 5s/step - loss: 0.3331 - accuracy: 0.9677 - val_loss: 0.2669 - val_accuracy: 0.9681\n",
            "26/26 [==============================] - 125s 5s/step - loss: 0.2718 - accuracy: 0.9677 - val_loss: 0.2776 - val_accuracy: 0.9681\n",
            "26/26 [==============================] - 125s 5s/step - loss: 0.2905 - accuracy: 0.9677 - val_loss: 0.2443 - val_accuracy: 0.9681\n",
            "26/26 [==============================] - 126s 5s/step - loss: 0.2370 - accuracy: 0.9677 - val_loss: 0.2126 - val_accuracy: 0.9681\n"
          ],
          "name": "stdout"
        }
      ]
    }
  ]
}